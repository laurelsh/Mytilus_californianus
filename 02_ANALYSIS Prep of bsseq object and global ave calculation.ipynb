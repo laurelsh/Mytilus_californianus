{
 "cells": [
  {
   "cell_type": "code",
   "execution_count": null,
   "id": "92656ed2-e63c-49a6-8ea9-6eb8e95dd081",
   "metadata": {},
   "outputs": [],
   "source": [
    "######################################################################\n",
    "## 02_ANALYSIS: Preparation of BSseq Objects\n",
    "## (WGBS prep + the WGS steps needed to build SNP masks for BSseq)\n",
    "######################################################################\n",
    "\n",
    "# NOTE: Blocks labeled “SCRIPT / ON COMMAND LINE” are terminal/SLURM steps, not R.\n",
    "\n",
    "# Prerequisites (what should already exist before BSseq masking):\n",
    "# - WGBS reads trimmed and mapped with Bismark (deduplicated .cov.gz files present)\n",
    "# - Reference FASTA indexed: mytilus_californianus_genome.fasta(.fai)\n",
    "# - WGS Bowtie2 BAMs: ~/Mytilus-WGS/mapping_bt2/*.mkdup.bam + .bai\n",
    "# - FreeBayes relaxed per-sample VCFs merged to a cohort VCF (built below) which we then convert to SNP masks"
   ]
  },
  {
   "cell_type": "code",
   "execution_count": 1,
   "id": "88aec92d-635e-4581-addd-277adc38e188",
   "metadata": {},
   "outputs": [
    {
     "data": {
      "text/html": [
       "<style>\n",
       ".dl-inline {width: auto; margin:0; padding: 0}\n",
       ".dl-inline>dt, .dl-inline>dd {float: none; width: auto; display: inline-block}\n",
       ".dl-inline>dt::after {content: \":\\0020\"; padding-right: .5ex}\n",
       ".dl-inline>dt:not(:first-of-type) {padding-left: .5ex}\n",
       "</style><dl class=dl-inline><dt>proj_dir_exists</dt><dd>TRUE</dd><dt>ref_exists</dt><dd>TRUE</dd><dt>map_bt2_exists</dt><dd>TRUE</dd><dt>snps_dir_exists</dt><dd>TRUE</dd><dt>all_mask_exists</dt><dd>TRUE</dd><dt>cpg_mask_exists</dt><dd>TRUE</dd></dl>\n"
      ],
      "text/latex": [
       "\\begin{description*}\n",
       "\\item[proj\\textbackslash{}\\_dir\\textbackslash{}\\_exists] TRUE\n",
       "\\item[ref\\textbackslash{}\\_exists] TRUE\n",
       "\\item[map\\textbackslash{}\\_bt2\\textbackslash{}\\_exists] TRUE\n",
       "\\item[snps\\textbackslash{}\\_dir\\textbackslash{}\\_exists] TRUE\n",
       "\\item[all\\textbackslash{}\\_mask\\textbackslash{}\\_exists] TRUE\n",
       "\\item[cpg\\textbackslash{}\\_mask\\textbackslash{}\\_exists] TRUE\n",
       "\\end{description*}\n"
      ],
      "text/markdown": [
       "proj_dir_exists\n",
       ":   TRUEref_exists\n",
       ":   TRUEmap_bt2_exists\n",
       ":   TRUEsnps_dir_exists\n",
       ":   TRUEall_mask_exists\n",
       ":   TRUEcpg_mask_exists\n",
       ":   TRUE\n",
       "\n"
      ],
      "text/plain": [
       "proj_dir_exists      ref_exists  map_bt2_exists snps_dir_exists all_mask_exists \n",
       "           TRUE            TRUE            TRUE            TRUE            TRUE \n",
       "cpg_mask_exists \n",
       "           TRUE "
      ]
     },
     "metadata": {},
     "output_type": "display_data"
    }
   ],
   "source": [
    "######################################################################\n",
    "## BLOCK 0A — Global paths (run in Notebook)\n",
    "######################################################################\n",
    "\n",
    "proj_dir    <- \"/home/local/ADS/lsh/Mytilus-WGS\"\n",
    "ref_fa      <- \"/home/local/ADS/lsh/Mytilus/prepped_genome/mytilus_californianus_genome.fasta\"\n",
    "\n",
    "# WGS (Bowtie2) mapping outputs (mkdup BAMs)\n",
    "map_bt2_dir <- file.path(proj_dir, \"mapping_bt2\")\n",
    "\n",
    "# Optional: mosdepth coverage outputs\n",
    "cov_bt2_dir <- file.path(proj_dir, \"wgs_coverage_bt2\")\n",
    "\n",
    "# SNP/mask outputs (these files will be CREATED by later blocks)\n",
    "snps_dir      <- file.path(proj_dir, \"snps\")\n",
    "mask_all_snps <- file.path(snps_dir, \"mask_all_snps.bed\")   # all SNP positions (preferred for BSseq masking)\n",
    "mask_cpg_snps <- file.path(snps_dir, \"mask_cpg_snps.bed\")   # CpG-only SNP positions (optional)\n",
    "\n",
    "# Sanity prints (TRUE/FALSE is fine if masks don't exist yet)\n",
    "c(\n",
    "  proj_dir_exists = dir.exists(proj_dir),\n",
    "  ref_exists      = file.exists(ref_fa),\n",
    "  map_bt2_exists  = dir.exists(map_bt2_dir),\n",
    "  snps_dir_exists = dir.exists(snps_dir),\n",
    "  all_mask_exists = file.exists(mask_all_snps),\n",
    "  cpg_mask_exists = file.exists(mask_cpg_snps)\n",
    ")"
   ]
  },
  {
   "cell_type": "code",
   "execution_count": null,
   "id": "58a1b651-4d10-4835-a53b-16dc5c3dbbb1",
   "metadata": {},
   "outputs": [],
   "source": [
    "######################################################################\n",
    "## BLOCK 0B — FreeBayes relaxed calling and merge (SCRIPT)\n",
    "## (These steps create the cohort VCF used to build SNP masks)\n",
    "######################################################################\n",
    "\n",
    "# Per-sample (ran outside the notebook):\n",
    "#   freebayes -f \"$REF\" sample.mkdup.bam > sample.raw.vcf 2> sample.freebayes.log\n",
    "#   bgzip -f sample.raw.vcf && tabix -f -p vcf sample.raw.vcf.gz\n",
    "#   # Ensure distinct sample names:\n",
    "#   bcftools reheader -s <(echo \"SAMPLE_NAME\") -o sample.fix.vcf.gz sample.raw.vcf.gz\n",
    "#   mv sample.fix.vcf.gz sample.raw.vcf.gz && tabix -f -p vcf sample.raw.vcf.gz\n",
    "#\n",
    "# Merge all samples:\n",
    "#   cd ~/Mytilus-WGS/mapping_bt2\n",
    "#   bcftools merge mc*.raw.vcf.gz -Oz -o snps/freebayes_relaxed_bt2.vcf.gz\n",
    "#   tabix -f -p vcf snps/freebayes_relaxed_bt2.vcf.gz\n"
   ]
  },
  {
   "cell_type": "code",
   "execution_count": null,
   "id": "c98eeb37-abe2-48bb-87ba-3be73b30017a",
   "metadata": {},
   "outputs": [],
   "source": [
    "######################################################################\n",
    "## BLOCK 0C — Build SNP masks from merged FreeBayes VCF (SCRIPT)\n",
    "######################################################################\n",
    "\n",
    "# From project root: cd ~/Mytilus-WGS ; conda activate bcftools-env\n",
    "# Ensure file is indexed:\n",
    "#   tabix -f -p vcf snps/freebayes_relaxed_bt2.vcf.gz\n",
    "#\n",
    "# All-SNP mask (0-based BED):\n",
    "#   bcftools query -f'%CHROM\\t%POS0\\t%POS\\n' snps/freebayes_relaxed_bt2.vcf.gz \\\n",
    "#   | sort -k1,1 -k2,2n \\\n",
    "#   | bedtools merge -i - > snps/mask_all_snps.bed\n",
    "#\n",
    "# CpG-only SNP mask (heuristic C>T or G>A at CpGs):\n",
    "#   bcftools query -f'%CHROM\\t%POS0\\t%POS\\t%REF\\t%ALT\\n' snps/freebayes_relaxed_bt2.vcf.gz \\\n",
    "#   | awk '($4==\"C\" && $5==\"T\") || ($4==\"G\" && $5==\"A\") {print $1\"\\t\"$2\"\\t\"$3}' \\\n",
    "#   | sort -k1,1 -k2,2n | bedtools merge -i - > snps/mask_cpg_snps.bed"
   ]
  },
  {
   "cell_type": "code",
   "execution_count": null,
   "id": "dafb4ed6-3c1e-4e2c-b2b9-547b3973ba1b",
   "metadata": {},
   "outputs": [],
   "source": [
    "######################################################################\n",
    "## BLOCK 0D — Partner SNP mask - Masks the CpG itself and its complementary base (SCRIPT)\n",
    "######################################################################\n",
    "\n",
    "# from ~/Mytilus-WGS\n",
    "set -euo pipefail\n",
    "\n",
    "VCF=snps/freebayes_relaxed_bt2.vcf.gz\n",
    "FAI=/home/local/ADS/lsh/Mytilus/prepped_genome/mytilus_californianus_genome.fasta.fai\n",
    "OUT=snps/mask_all_snps_partner.bed\n",
    "\n",
    "# sanity: both tools available via conda\n",
    "conda run -n bcftools-env bcftools --version >/dev/null\n",
    "conda run -n bedtools bedtools --version >/dev/null\n",
    "\n",
    "# 0) make sure the VCF is indexed\n",
    "[[ -s \"${VCF}.tbi\" ]] || conda run -n bcftools-env tabix -f -p vcf \"$VCF\"\n",
    "\n",
    "# 1) extract only CpG-affecting SNPs (C>T or G>A) as 1bp BED (0-based, half-open)\n",
    "conda run -n bcftools-env bcftools view -v snps -H \"$VCF\" \\\n",
    "| awk 'BEGIN{OFS=\"\\t\"}{\n",
    "    chr=$1; pos=$2; ref=$4; alt=$5;\n",
    "    if ((ref==\"C\" && alt==\"T\") || (ref==\"G\" && alt==\"A\")) {\n",
    "        print chr, pos-1, pos\n",
    "    }\n",
    "}' \\\n",
    "| sort -k1,1 -k2,2n \\\n",
    "| conda run -n bedtools bedtools merge -i - \\\n",
    "> \"$OUT\"\n",
    "\n",
    "# 2) quick stats\n",
    "echo \"[OK] Partner-only SNP mask -> $OUT\"\n",
    "wc -l \"$OUT\" | awk '{print \"BED intervals:\", $1}'\n",
    "awk '{bp+=$3-$2}END{print \"Total masked bp:\", bp}' \"$OUT\"\n",
    "\n",
    "# 3) spot-check first 5 lines\n",
    "head -n 5 \"$OUT\""
   ]
  },
  {
   "cell_type": "code",
   "execution_count": null,
   "id": "291d12fd-8e08-4c8e-b945-682656a16e6d",
   "metadata": {},
   "outputs": [],
   "source": [
    "######################################################################\n",
    "## BLOCK 0D - SCRIPT: Merging WGBS strands (Bismark)\n",
    "######################################################################\n",
    "\n",
    "genome_folder=\"/home/local/ADS/lsh/Mytilus/prepped_genome/\"\n",
    "cd /home/local/ADS/lsh/Mytilus/mapping\n",
    "eval \"$(conda shell.bash hook)\"\n",
    "conda activate bismark\n",
    "\n",
    "find *deduplicated.bismark.cov.gz \\\n",
    "| xargs basename -s deduplicated.bismark.cov.gz \\\n",
    "| xargs -I{} coverage2cytosine \\\n",
    "  --genome_folder ${genome_folder} \\\n",
    "  --output {}_merged.cov \\\n",
    "  --merge_CpG \\\n",
    "  --zero_based \\\n",
    "  {}deduplicated.bismark.cov.gz"
   ]
  },
  {
   "cell_type": "code",
   "execution_count": 2,
   "id": "43aa668d-3508-4bb6-8cb0-c366a2ee2410",
   "metadata": {
    "scrolled": true,
    "tags": []
   },
   "outputs": [],
   "source": [
    "######################################################################\n",
    "## BLOCK 1A: GLOBAL SETUP: Paths, Libraries\n",
    "######################################################################\n",
    "\n",
    "## SNP mask to use for BSseq filtering\n",
    "## Default (all SNPs): \n",
    "snp_bed_path <- \"/home/local/ADS/lsh/Mytilus-WGS/snps/mask_all_snps.bed\"\n",
    "\n",
    "## If you specifically want CpG-only SNP masking, switch to:\n",
    "## snp_bed_path <- \"/home/local/ADS/lsh/Mytilus-WGS/snps/mask_cpg_snps.bed\"\n",
    "\n",
    "suppressMessages({\n",
    "  library(bsseq)\n",
    "  library(data.table)\n",
    "  library(dplyr)\n",
    "  library(purrr)\n",
    "  library(GenomicRanges)\n",
    "  library(tidyr)\n",
    "  library(ggplot2)\n",
    "})"
   ]
  },
  {
   "cell_type": "code",
   "execution_count": 3,
   "id": "acd2253d-0621-4511-8762-fd9bf93948e7",
   "metadata": {},
   "outputs": [],
   "source": [
    "######################################################################\n",
    "## BLOCK 1B: Load and Merge .cov Files\n",
    "######################################################################\n",
    "\n",
    "cov_dir <- \"/home/local/ADS/lsh/Mytilus/mapping-2/\"\n",
    "cov_files <- list.files(path = cov_dir, pattern = \"merged_CpG_evidence\\\\.cov$\", full.names = TRUE)\n",
    "sample_names <- c(\"M44-9-1yr\", \"M45-11-5yr\", \"M46-14-4yr\", \"M47-15-6yr\", \"M48-18-8yr\", \"M49-19-8yr\", \"M50-24-1yr\")\n",
    "\n",
    "read_cov <- function(file, sample) {\n",
    "  dt <- fread(file, header = FALSE)\n",
    "  dt <- dt[, .(chr = V1, pos = V2, X = V5, N = V5 + V6)]\n",
    "  setnames(dt, c(\"X\", \"N\"), c(paste0(\"X_\", sample), paste0(\"N_\", sample)))\n",
    "  return(dt)\n",
    "}\n",
    "\n",
    "cov_data <- mapply(read_cov, cov_files, sample_names, SIMPLIFY = FALSE)\n",
    "combined_cov <- Reduce(function(x, y) merge(x, y, by = c(\"chr\", \"pos\"), all = TRUE), cov_data)\n",
    "combined_cov[is.na(combined_cov)] <- 0"
   ]
  },
  {
   "cell_type": "code",
   "execution_count": 4,
   "id": "86c96ab5-0332-4f0c-a2cb-e4c09b0c8bc2",
   "metadata": {},
   "outputs": [],
   "source": [
    "######################################################################\n",
    "## BLOCK 2: Create Raw BSseq Object and Save\n",
    "######################################################################\n",
    "\n",
    "M <- as.matrix(combined_cov[, grep(\"^X_\", names(combined_cov)), with = FALSE])\n",
    "Cov <- as.matrix(combined_cov[, grep(\"^N_\", names(combined_cov)), with = FALSE])\n",
    "colnames(M) <- colnames(Cov) <- sub(\"^X_\", \"\", colnames(combined_cov)[grep(\"^X_\", names(combined_cov))])\n",
    "BSseq_obj <- BSseq(chr = combined_cov$chr, pos = combined_cov$pos, M = M, Cov = Cov, sampleNames = colnames(M))\n",
    "save(BSseq_obj, file = \"bsseq_raw_all_samples.RData\")"
   ]
  },
  {
   "cell_type": "code",
   "execution_count": 5,
   "id": "883800ae-5adc-4ae9-91af-58e54a9ef1af",
   "metadata": {},
   "outputs": [],
   "source": [
    "######################################################################\n",
    "## BLOCK 3: Remove WGBS Coverage Outlier\n",
    "######################################################################\n",
    "\n",
    "cov_stats <- data.frame(\n",
    "  sample = sampleNames(BSseq_obj),\n",
    "  covered_4x = sapply(seq_len(ncol(BSseq_obj)), function(i) sum(getCoverage(BSseq_obj, type = \"Cov\")[, i] >= min_meth_cov))\n",
    ")\n",
    "\n",
    "outlier_sample <- cov_stats$sample[which.min(cov_stats$covered_4x)]\n",
    "BSseq_obj_clean <- BSseq_obj[, !(sampleNames(BSseq_obj) %in% outlier_sample)]\n",
    "save(BSseq_obj_clean, file = \"bsseq_cleaned.RData\")"
   ]
  },
  {
   "cell_type": "code",
   "execution_count": 36,
   "id": "5217930a-77ff-47ef-a37c-1f7eca97540b",
   "metadata": {},
   "outputs": [
    {
     "data": {
      "text/html": [
       "174"
      ],
      "text/latex": [
       "174"
      ],
      "text/markdown": [
       "174"
      ],
      "text/plain": [
       "[1] 174"
      ]
     },
     "metadata": {},
     "output_type": "display_data"
    },
    {
     "name": "stdout",
     "output_type": "stream",
     "text": [
      "Total loci: 27531884 \n",
      "Overlap: 429099 \n",
      "Retained: 27102785 \n"
     ]
    }
   ],
   "source": [
    "######################################################################\n",
    "## BLOCK 4A: SNP Masking on outlier-removed sample set (6 samples)\n",
    "######################################################################\n",
    "\n",
    "library(rtracklayer)\n",
    "library(GenomicRanges)\n",
    "library(GenomeInfoDb)\n",
    "\n",
    "# Your objects\n",
    "bs   <- BSseq_obj_clean\n",
    "mask <- import(\"/home/local/ADS/lsh/Mytilus-WGS/snps/mask_all_snps_partner.bed.gz\")\n",
    "\n",
    "# 1) Align on shared seqlevels (no style changes)\n",
    "shared <- intersect(seqlevels(bs), seqlevels(mask))\n",
    "length(shared)            # should be ~175 if they match now\n",
    "mask   <- keepSeqlevels(mask, shared, pruning.mode = \"coarse\")\n",
    "bs     <- keepSeqlevels(bs,   shared, pruning.mode = \"coarse\")\n",
    "\n",
    "# (Optional) set the same 'genome' tag so Bioconductor stops warning\n",
    "genome(mask) <- genome(bs)\n",
    "\n",
    "# 2) Compute overlaps and filter\n",
    "hits <- countOverlaps(granges(bs), mask, type = \"any\")\n",
    "n_total   <- length(hits)\n",
    "n_overlap <- sum(hits > 0)\n",
    "n_keep    <- n_total - n_overlap\n",
    "cat(\"Total loci:\", n_total, \"\\nOverlap:\", n_overlap, \"\\nRetained:\", n_keep, \"\\n\")\n",
    "\n",
    "# 3) Apply the mask\n",
    "BSseq_obj_masked <- bs[hits == 0, ]\n",
    "\n",
    "# Save result\n",
    "save(BSseq_obj_masked, file = \"bsseq_snp_masked.RData\")"
   ]
  },
  {
   "cell_type": "code",
   "execution_count": 32,
   "id": "f8c3b13c-6c9a-4767-9136-2987c9e3a5dd",
   "metadata": {},
   "outputs": [
    {
     "name": "stdout",
     "output_type": "stream",
     "text": [
      "Total loci: 27531884 \n",
      "Overlap: 429099 \n",
      "Retained: 27102785 \n",
      "Samples kept (n=7): M44-9-1yr, M45-11-5yr, M46-14-4yr, M47-15-6yr, M48-18-8yr, M49-19-8yr, M50-24-1yr\n"
     ]
    }
   ],
   "source": [
    "######################################################################\n",
    "## BLOCK 4B: SNP Masking on full sample set (7 samples)\n",
    "######################################################################\n",
    "\n",
    "# Load the 7-sample BSseq object (produced before any sample removal)\n",
    "load(\"bsseq_raw_all_samples.RData\")   # loads BSseq_obj\n",
    "\n",
    "# Make it explicit and verify sample count = 7\n",
    "bs7 <- BSseq_obj\n",
    "stopifnot(length(colnames(bs7)) == 7)\n",
    "\n",
    "# Read SNP mask (padded ±1bp — CpG-safe)\n",
    "library(rtracklayer)\n",
    "library(GenomeInfoDb)\n",
    "library(GenomicRanges)\n",
    "mask <- import(\"/home/local/ADS/lsh/Mytilus-WGS/snps/mask_all_snps_partner.bed.gz\")\n",
    "\n",
    "# Align on shared seqlevels (no style conversions)\n",
    "shared <- intersect(seqlevels(bs7), seqlevels(mask))\n",
    "mask  <- keepSeqlevels(mask, shared, pruning.mode = \"coarse\")\n",
    "bs7   <- keepSeqlevels(bs7,  shared, pruning.mode = \"coarse\")\n",
    "genome(mask) <- genome(bs7)\n",
    "\n",
    "# Overlap counts\n",
    "hits      <- countOverlaps(granges(bs7), mask, type = \"any\")\n",
    "n_total   <- length(hits)\n",
    "n_overlap <- sum(hits > 0)\n",
    "n_keep    <- n_total - n_overlap\n",
    "cat(\"Total loci:\", n_total, \"\\nOverlap:\", n_overlap, \"\\nRetained:\", n_keep, \"\\n\")\n",
    "\n",
    "# Apply the mask\n",
    "BSseq_obj_masked7 <- bs7[hits == 0, ]\n",
    "\n",
    "# Sanity checks: still 7 samples\n",
    "stopifnot(length(colnames(BSseq_obj_masked7)) == 7)\n",
    "cat(\"Samples kept (n=\", length(colnames(BSseq_obj_masked7)), \"): \",\n",
    "    paste(colnames(BSseq_obj_masked7), collapse = \", \"), \"\\n\", sep=\"\")\n",
    "\n",
    "# Save\n",
    "save(BSseq_obj_masked7, file = \"bsseq_snp_masked_all_samples.RData\")"
   ]
  },
  {
   "cell_type": "code",
   "execution_count": 33,
   "id": "356971ab-916a-4eb2-8b79-714db62454de",
   "metadata": {},
   "outputs": [
    {
     "data": {
      "text/html": [
       "11.4845816612176"
      ],
      "text/latex": [
       "11.4845816612176"
      ],
      "text/markdown": [
       "11.4845816612176"
      ],
      "text/plain": [
       "[1] 11.48458"
      ]
     },
     "metadata": {},
     "output_type": "display_data"
    },
    {
     "name": "stdout",
     "output_type": "stream",
     "text": [
      " M44-9-1yr M45-11-5yr M46-14-4yr M47-15-6yr M48-18-8yr M49-19-8yr M50-24-1yr \n",
      " 12.503574  13.848951  12.718962  11.325192  10.297695  10.004323   9.951701 \n"
     ]
    }
   ],
   "source": [
    "############################################\n",
    "## BLOCK 4C: Global mean across samples\n",
    "############################################\n",
    "\n",
    "# Extract methylation proportions (β values) per locus per sample\n",
    "meth_mat <- getMeth(BSseq_obj_masked7, type = \"raw\")  # mCG / CG at each locus\n",
    "\n",
    "# Average across all loci and individuals\n",
    "global_mean <- mean(meth_mat, na.rm = TRUE) * 100  # convert to %\n",
    "global_mean\n",
    "\n",
    "global_per_sample <- colMeans(meth_mat, na.rm = TRUE) * 100\n",
    "print(global_per_sample)"
   ]
  }
 ],
 "metadata": {
  "kernelspec": {
   "display_name": "R [conda env:r]",
   "language": "R",
   "name": "conda-env-r-r"
  },
  "language_info": {
   "codemirror_mode": "r",
   "file_extension": ".r",
   "mimetype": "text/x-r-source",
   "name": "R",
   "pygments_lexer": "r",
   "version": "4.4.1"
  }
 },
 "nbformat": 4,
 "nbformat_minor": 5
}
